{
 "cells": [
  {
   "cell_type": "code",
   "execution_count": 18,
   "id": "6b4ba891-2393-4f53-922b-6841a33bdac6",
   "metadata": {},
   "outputs": [],
   "source": [
    "import psycopg"
   ]
  },
  {
   "cell_type": "code",
   "execution_count": 19,
   "id": "f7905dc2-4169-4df5-9347-e7a850fb50b8",
   "metadata": {},
   "outputs": [],
   "source": [
    "DB_CONFIG = {\n",
    "    \"dbname\": \"sunsindb\",\n",
    "    \"user\" : \"sunsin\",\n",
    "    \"password\" : \"mysecretpassword\",\n",
    "    \"host\" : \"localhost\",\n",
    "    \"port\" : \"5432\"\n",
    "}"
   ]
  },
  {
   "cell_type": "code",
   "execution_count": 20,
   "id": "e06d01f8-7465-4caf-8459-6e1da09aff34",
   "metadata": {},
   "outputs": [
    {
     "data": {
      "text/plain": [
       "<psycopg.Connection [IDLE] (host=localhost user=sunsin database=sunsindb) at 0x7f2415562770>"
      ]
     },
     "execution_count": 20,
     "metadata": {},
     "output_type": "execute_result"
    }
   ],
   "source": [
    "psycopg.connect(**DB_CONFIG)"
   ]
  },
  {
   "cell_type": "code",
   "execution_count": 21,
   "id": "e07a15ea-2ec8-4988-be02-a2f69e88aafe",
   "metadata": {},
   "outputs": [
    {
     "data": {
      "text/plain": [
       "<psycopg.Connection [IDLE] (host=localhost user=sunsin database=sunsindb) at 0x7f241450d660>"
      ]
     },
     "execution_count": 21,
     "metadata": {},
     "output_type": "execute_result"
    }
   ],
   "source": [
    "# psycopg.connect(**DB_CONFIG)와 아래는 같다\n",
    "psycopg.connect(dbname = \"sunsindb\",\n",
    "                user = \"sunsin\",\n",
    "                password = \"mysecretpassword\",\n",
    "                host = \"localhost\",\n",
    "                port = \"5432\")"
   ]
  },
  {
   "cell_type": "code",
   "execution_count": 22,
   "id": "f80aa13e-62fb-46aa-be7e-99d74e669227",
   "metadata": {},
   "outputs": [],
   "source": [
    "def get_connection():\n",
    "    return psycopg.connect(**DB_CONFIG)"
   ]
  },
  {
   "cell_type": "code",
   "execution_count": 25,
   "id": "1bb14fb8-b9f0-4f6d-9c51-2031b90ab27b",
   "metadata": {},
   "outputs": [],
   "source": [
    "conn = get_connection()"
   ]
  },
  {
   "cell_type": "code",
   "execution_count": 26,
   "id": "99bba2e4-589c-4a81-a067-4cbac4415954",
   "metadata": {},
   "outputs": [],
   "source": [
    "cursor = conn.cursor()"
   ]
  },
  {
   "cell_type": "code",
   "execution_count": 29,
   "id": "55b5c780-3420-4319-a998-f3efc48313cd",
   "metadata": {},
   "outputs": [
    {
     "data": {
      "text/plain": [
       "<psycopg.Cursor [COMMAND_OK] [INTRANS] (host=localhost user=sunsin database=sunsindb) at 0x7f2414132da0>"
      ]
     },
     "execution_count": 29,
     "metadata": {},
     "output_type": "execute_result"
    }
   ],
   "source": [
    "cursor.execute(\n",
    "    \"INSERT INTO lunch_menu(menu_name, member_name, dt) VALUES (%s, %s, %s);\",\n",
    "    ('테스트음식', '테스트맴버', '2000-11-11')\n",
    ")"
   ]
  },
  {
   "cell_type": "code",
   "execution_count": 30,
   "id": "d3647b74-e63e-4c62-bccd-e5d9293a5071",
   "metadata": {},
   "outputs": [],
   "source": [
    "conn.commit()"
   ]
  },
  {
   "cell_type": "code",
   "execution_count": 31,
   "id": "8cdb63de-15b7-4148-b366-085258b46516",
   "metadata": {},
   "outputs": [],
   "source": [
    "cursor.close()"
   ]
  }
 ],
 "metadata": {
  "kernelspec": {
   "display_name": "Python 3 (ipykernel)",
   "language": "python",
   "name": "python3"
  },
  "language_info": {
   "codemirror_mode": {
    "name": "ipython",
    "version": 3
   },
   "file_extension": ".py",
   "mimetype": "text/x-python",
   "name": "python",
   "nbconvert_exporter": "python",
   "pygments_lexer": "ipython3",
   "version": "3.10.12"
  }
 },
 "nbformat": 4,
 "nbformat_minor": 5
}
