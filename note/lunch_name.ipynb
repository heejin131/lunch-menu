{
 "cells": [
  {
   "cell_type": "code",
   "execution_count": 1,
   "id": "acd132f1-621f-4556-bc22-b31a54f8c8c2",
   "metadata": {},
   "outputs": [],
   "source": [
    "import pandas as pd"
   ]
  },
  {
   "cell_type": "code",
   "execution_count": 3,
   "id": "ebbfbf69-87e5-4d21-99fd-670c7fd587e0",
   "metadata": {},
   "outputs": [],
   "source": [
    "df = pd.read_csv('note/lunch_menu.csv')"
   ]
  },
  {
   "cell_type": "code",
   "execution_count": 4,
   "id": "e31ca6e4-0bad-4211-acab-a519a851ed28",
   "metadata": {},
   "outputs": [
    {
     "data": {
      "text/html": [
       "<div>\n",
       "<style scoped>\n",
       "    .dataframe tbody tr th:only-of-type {\n",
       "        vertical-align: middle;\n",
       "    }\n",
       "\n",
       "    .dataframe tbody tr th {\n",
       "        vertical-align: top;\n",
       "    }\n",
       "\n",
       "    .dataframe thead th {\n",
       "        text-align: right;\n",
       "    }\n",
       "</style>\n",
       "<table border=\"1\" class=\"dataframe\">\n",
       "  <thead>\n",
       "    <tr style=\"text-align: right;\">\n",
       "      <th></th>\n",
       "      <th>name</th>\n",
       "      <th>ename</th>\n",
       "      <th>gmail</th>\n",
       "      <th>github</th>\n",
       "      <th>domain</th>\n",
       "      <th>vercel</th>\n",
       "      <th>role</th>\n",
       "      <th>2025-01-07</th>\n",
       "      <th>2025-01-08</th>\n",
       "      <th>2025-01-09</th>\n",
       "      <th>...</th>\n",
       "      <th>2025-01-14</th>\n",
       "      <th>2025-01-15</th>\n",
       "      <th>2025-01-16</th>\n",
       "      <th>2025-01-17</th>\n",
       "      <th>2025-01-20</th>\n",
       "      <th>2025-01-21</th>\n",
       "      <th>2025-01-22</th>\n",
       "      <th>2025-01-23</th>\n",
       "      <th>2025-01-24</th>\n",
       "      <th>2025-02-03</th>\n",
       "    </tr>\n",
       "  </thead>\n",
       "  <tbody>\n",
       "    <tr>\n",
       "      <th>0</th>\n",
       "      <td>민경국</td>\n",
       "      <td>TOM</td>\n",
       "      <td>tom@diginori.com</td>\n",
       "      <td>ppabam</td>\n",
       "      <td>sunsin.shop</td>\n",
       "      <td>https://sunsin.vercel.app</td>\n",
       "      <td>PM</td>\n",
       "      <td>순대국</td>\n",
       "      <td>비지찌개</td>\n",
       "      <td>냉동김밥,컵라면</td>\n",
       "      <td>...</td>\n",
       "      <td>소고기무국</td>\n",
       "      <td>소고기덮밥</td>\n",
       "      <td>오징어 덮밥</td>\n",
       "      <td>짜장면</td>\n",
       "      <td>집밥 도시락</td>\n",
       "      <td>소고기무국</td>\n",
       "      <td>NaN</td>\n",
       "      <td>오징어덮밥</td>\n",
       "      <td>볶음밥</td>\n",
       "      <td>짜장면</td>\n",
       "    </tr>\n",
       "    <tr>\n",
       "      <th>1</th>\n",
       "      <td>조민규</td>\n",
       "      <td>cho</td>\n",
       "      <td>j01040864205@gmail.com</td>\n",
       "      <td>cho6019</td>\n",
       "      <td>cho6019.store</td>\n",
       "      <td>https://cho6019.vercel.app</td>\n",
       "      <td>행동강령 수립 위원회</td>\n",
       "      <td>닭개장</td>\n",
       "      <td>규동</td>\n",
       "      <td>얼큰 순대국밥</td>\n",
       "      <td>...</td>\n",
       "      <td>순대국밥 고기만</td>\n",
       "      <td>파스타</td>\n",
       "      <td>간짜장</td>\n",
       "      <td>스파게티</td>\n",
       "      <td>버섯 비프 카레</td>\n",
       "      <td>스파게티</td>\n",
       "      <td>설렁탕</td>\n",
       "      <td>치킨마요덮밥</td>\n",
       "      <td>등심돈까스</td>\n",
       "      <td>치즈라면, 김밥</td>\n",
       "    </tr>\n",
       "  </tbody>\n",
       "</table>\n",
       "<p>2 rows × 22 columns</p>\n",
       "</div>"
      ],
      "text/plain": [
       "  name ename                   gmail   github         domain  \\\n",
       "0  민경국   TOM        tom@diginori.com   ppabam    sunsin.shop   \n",
       "1  조민규   cho  j01040864205@gmail.com  cho6019  cho6019.store   \n",
       "\n",
       "                       vercel         role 2025-01-07 2025-01-08 2025-01-09  \\\n",
       "0   https://sunsin.vercel.app           PM        순대국       비지찌개   냉동김밥,컵라면   \n",
       "1  https://cho6019.vercel.app  행동강령 수립 위원회        닭개장         규동    얼큰 순대국밥   \n",
       "\n",
       "   ... 2025-01-14 2025-01-15 2025-01-16 2025-01-17 2025-01-20 2025-01-21  \\\n",
       "0  ...      소고기무국      소고기덮밥     오징어 덮밥        짜장면     집밥 도시락      소고기무국   \n",
       "1  ...   순대국밥 고기만        파스타        간짜장       스파게티   버섯 비프 카레       스파게티   \n",
       "\n",
       "  2025-01-22 2025-01-23 2025-01-24 2025-02-03  \n",
       "0        NaN      오징어덮밥        볶음밥        짜장면  \n",
       "1        설렁탕     치킨마요덮밥      등심돈까스   치즈라면, 김밥  \n",
       "\n",
       "[2 rows x 22 columns]"
      ]
     },
     "execution_count": 4,
     "metadata": {},
     "output_type": "execute_result"
    }
   ],
   "source": [
    "df.head(2)"
   ]
  }
 ],
 "metadata": {
  "kernelspec": {
   "display_name": "Python 3 (ipykernel)",
   "language": "python",
   "name": "python3"
  },
  "language_info": {
   "codemirror_mode": {
    "name": "ipython",
    "version": 3
   },
   "file_extension": ".py",
   "mimetype": "text/x-python",
   "name": "python",
   "nbconvert_exporter": "python",
   "pygments_lexer": "ipython3",
   "version": "3.10.12"
  }
 },
 "nbformat": 4,
 "nbformat_minor": 5
}
