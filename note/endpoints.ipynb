{
 "cells": [
  {
   "cell_type": "code",
   "execution_count": 116,
   "id": "57acf0cb-6752-4c58-82c2-b0d1e7ab65d0",
   "metadata": {},
   "outputs": [],
   "source": [
    "import pandas as pd\n",
    "import requests\n",
    "\n",
    "EP = \"https://raw.githubusercontent.com/heejin131/journeyjean/refs/heads/main/endpoints.json\""
   ]
  },
  {
   "cell_type": "code",
   "execution_count": 117,
   "id": "76a4d1c8-ab5e-44ea-85c5-d323ad88a9a0",
   "metadata": {},
   "outputs": [],
   "source": [
    "res = requests.get(EP)"
   ]
  },
  {
   "cell_type": "code",
   "execution_count": 118,
   "id": "8c39d1a6-7fc4-4e98-b5a1-907efc959b44",
   "metadata": {},
   "outputs": [
    {
     "data": {
      "text/plain": [
       "200"
      ]
     },
     "execution_count": 118,
     "metadata": {},
     "output_type": "execute_result"
    }
   ],
   "source": [
    "res.status_code"
   ]
  },
  {
   "cell_type": "raw",
   "id": "c50b7558-6e23-431a-b435-4833c9f6864c",
   "metadata": {},
   "source": [
    "res.text"
   ]
  },
  {
   "cell_type": "code",
   "execution_count": 119,
   "id": "571c3ca7-d705-4e75-b962-94ceae6fe1e7",
   "metadata": {},
   "outputs": [
    {
     "data": {
      "text/plain": [
       "'{\\n    \"endpoints\": [\\n      {\"name\": \"TOM\",\"url\": \"https://ac.sunsin.shop/api/py/select_all\"},\\n      {\"name\": \"jiwon\",\"url\": \"https://agecal.wodan10.shop/api/py/select_all\"},\\n      {\"name\": \"heejin\",\"url\": \"https://age.journeyjean.shop/api/py/select_all\"}, \\n      {\"name\": \"hyun\",\"url\": \"https://agecalculator.calcalhan.store/api/py/select_all\"},\\n      {\"name\": \"cho\",\"url\": \"https://nextjs-fastapi-starter-5j3bemub7-chominkyus-projects.vercel.app/api/py/select_all\"},\\n      {\"name\": \"jacob\",\"url\": \"https://jacob0503.vercel.app/api/py/select_table\"},\\n      {\"name\": \"nuni\",\"url\": \"https://ac.nunininu.shop/api/py/select_all\"},\\n      {\"name\": \"lucas\",\"url\": \"https://ac.lucas12.store/api/py/select_all\"},\\n      {\"name\": \"SEO\",\"url\":\"https://ac.seo-sigma.shop/api/py/select_all\"},\\n      {\"name\": \"JERRY\", \"url\": \"https://jooon.vercel.app/api/py/select_all\"}\\n    ]\\n}\\n'"
      ]
     },
     "execution_count": 119,
     "metadata": {},
     "output_type": "execute_result"
    }
   ],
   "source": [
    "res.text"
   ]
  },
  {
   "cell_type": "code",
   "execution_count": 120,
   "id": "27daf294-b754-4375-93ac-eb5223b5879e",
   "metadata": {},
   "outputs": [
    {
     "data": {
      "text/plain": [
       "'utf-8'"
      ]
     },
     "execution_count": 120,
     "metadata": {},
     "output_type": "execute_result"
    }
   ],
   "source": [
    "res.encoding"
   ]
  },
  {
   "cell_type": "code",
   "execution_count": 121,
   "id": "8ad02d05-2728-4648-8025-cf4f5f10277e",
   "metadata": {},
   "outputs": [
    {
     "data": {
      "text/plain": [
       "{'endpoints': [{'name': 'TOM',\n",
       "   'url': 'https://ac.sunsin.shop/api/py/select_all'},\n",
       "  {'name': 'jiwon', 'url': 'https://agecal.wodan10.shop/api/py/select_all'},\n",
       "  {'name': 'heejin', 'url': 'https://age.journeyjean.shop/api/py/select_all'},\n",
       "  {'name': 'hyun',\n",
       "   'url': 'https://agecalculator.calcalhan.store/api/py/select_all'},\n",
       "  {'name': 'cho',\n",
       "   'url': 'https://nextjs-fastapi-starter-5j3bemub7-chominkyus-projects.vercel.app/api/py/select_all'},\n",
       "  {'name': 'jacob', 'url': 'https://jacob0503.vercel.app/api/py/select_table'},\n",
       "  {'name': 'nuni', 'url': 'https://ac.nunininu.shop/api/py/select_all'},\n",
       "  {'name': 'lucas', 'url': 'https://ac.lucas12.store/api/py/select_all'},\n",
       "  {'name': 'SEO', 'url': 'https://ac.seo-sigma.shop/api/py/select_all'},\n",
       "  {'name': 'JERRY', 'url': 'https://jooon.vercel.app/api/py/select_all'}]}"
      ]
     },
     "execution_count": 121,
     "metadata": {},
     "output_type": "execute_result"
    }
   ],
   "source": [
    "res.json()"
   ]
  },
  {
   "cell_type": "code",
   "execution_count": 122,
   "id": "e1bbb1ab-604d-47d5-a21b-32ca13c61c47",
   "metadata": {},
   "outputs": [],
   "source": [
    "data = res.json()"
   ]
  },
  {
   "cell_type": "code",
   "execution_count": 123,
   "id": "32b979ce-e6ac-417e-a834-ad8d092627ff",
   "metadata": {},
   "outputs": [
    {
     "data": {
      "text/plain": [
       "dict"
      ]
     },
     "execution_count": 123,
     "metadata": {},
     "output_type": "execute_result"
    }
   ],
   "source": [
    "type(data)"
   ]
  },
  {
   "cell_type": "code",
   "execution_count": 124,
   "id": "82e3d486-7a7e-40c6-835b-c535bcb2c081",
   "metadata": {},
   "outputs": [
    {
     "data": {
      "text/plain": [
       "[{'name': 'TOM', 'url': 'https://ac.sunsin.shop/api/py/select_all'},\n",
       " {'name': 'jiwon', 'url': 'https://agecal.wodan10.shop/api/py/select_all'},\n",
       " {'name': 'heejin', 'url': 'https://age.journeyjean.shop/api/py/select_all'},\n",
       " {'name': 'hyun',\n",
       "  'url': 'https://agecalculator.calcalhan.store/api/py/select_all'},\n",
       " {'name': 'cho',\n",
       "  'url': 'https://nextjs-fastapi-starter-5j3bemub7-chominkyus-projects.vercel.app/api/py/select_all'},\n",
       " {'name': 'jacob', 'url': 'https://jacob0503.vercel.app/api/py/select_table'},\n",
       " {'name': 'nuni', 'url': 'https://ac.nunininu.shop/api/py/select_all'},\n",
       " {'name': 'lucas', 'url': 'https://ac.lucas12.store/api/py/select_all'},\n",
       " {'name': 'SEO', 'url': 'https://ac.seo-sigma.shop/api/py/select_all'},\n",
       " {'name': 'JERRY', 'url': 'https://jooon.vercel.app/api/py/select_all'}]"
      ]
     },
     "execution_count": 124,
     "metadata": {},
     "output_type": "execute_result"
    }
   ],
   "source": [
    "data['endpoints']"
   ]
  },
  {
   "cell_type": "code",
   "execution_count": 125,
   "id": "79f16e34-b8a0-473e-bfc5-dedbcc72cc54",
   "metadata": {},
   "outputs": [],
   "source": [
    "type(data['endpoints'])\n",
    "endpoints = data['endpoints']"
   ]
  },
  {
   "cell_type": "code",
   "execution_count": 126,
   "id": "262ce35c-bf28-493a-a0e1-cf2e68a129a1",
   "metadata": {},
   "outputs": [
    {
     "name": "stdout",
     "output_type": "stream",
     "text": [
      "{'name': 'TOM', 'url': 'https://ac.sunsin.shop/api/py/select_all'}\n",
      "{'name': 'jiwon', 'url': 'https://agecal.wodan10.shop/api/py/select_all'}\n",
      "{'name': 'heejin', 'url': 'https://age.journeyjean.shop/api/py/select_all'}\n",
      "{'name': 'hyun', 'url': 'https://agecalculator.calcalhan.store/api/py/select_all'}\n",
      "{'name': 'cho', 'url': 'https://nextjs-fastapi-starter-5j3bemub7-chominkyus-projects.vercel.app/api/py/select_all'}\n",
      "{'name': 'jacob', 'url': 'https://jacob0503.vercel.app/api/py/select_table'}\n",
      "{'name': 'nuni', 'url': 'https://ac.nunininu.shop/api/py/select_all'}\n",
      "{'name': 'lucas', 'url': 'https://ac.lucas12.store/api/py/select_all'}\n",
      "{'name': 'SEO', 'url': 'https://ac.seo-sigma.shop/api/py/select_all'}\n",
      "{'name': 'JERRY', 'url': 'https://jooon.vercel.app/api/py/select_all'}\n"
     ]
    }
   ],
   "source": [
    "for p in endpoints :\n",
    "    print(p)"
   ]
  },
  {
   "cell_type": "code",
   "execution_count": 152,
   "id": "2671b296-30e5-4448-a0fd-619c3422b9f0",
   "metadata": {},
   "outputs": [
    {
     "name": "stdout",
     "output_type": "stream",
     "text": [
      "TOM, https://ac.sunsin.shop/api/py/select_all\n",
      "jiwon, https://agecal.wodan10.shop/api/py/select_all\n",
      "heejin, https://age.journeyjean.shop/api/py/select_all\n",
      "hyun, https://agecalculator.calcalhan.store/api/py/select_all\n",
      "cho, https://nextjs-fastapi-starter-5j3bemub7-chominkyus-projects.vercel.app/api/py/select_all\n",
      "jacob, https://jacob0503.vercel.app/api/py/select_table\n",
      "nuni, https://ac.nunininu.shop/api/py/select_all\n",
      "lucas, https://ac.lucas12.store/api/py/select_all\n",
      "SEO, https://ac.seo-sigma.shop/api/py/select_all\n",
      "JERRY, https://jooon.vercel.app/api/py/select_all\n"
     ]
    }
   ],
   "source": [
    "for p in endpoints :\n",
    "    print(f'{p[\"name\"]}, {p[\"url\"]}')"
   ]
  },
  {
   "cell_type": "code",
   "execution_count": 161,
   "id": "77f097dd-e27f-4a4b-88f2-86b55b291162",
   "metadata": {},
   "outputs": [
    {
     "name": "stdout",
     "output_type": "stream",
     "text": [
      "https://ac.sunsin.shop/api/py/select_all\n",
      "https://agecal.wodan10.shop/api/py/select_all\n",
      "https://age.journeyjean.shop/api/py/select_all\n",
      "https://agecalculator.calcalhan.store/api/py/select_all\n",
      "https://nextjs-fastapi-starter-5j3bemub7-chominkyus-projects.vercel.app/api/py/select_all\n",
      "https://jacob0503.vercel.app/api/py/select_table\n",
      "https://ac.nunininu.shop/api/py/select_all\n",
      "https://ac.lucas12.store/api/py/select_all\n",
      "https://ac.seo-sigma.shop/api/py/select_all\n",
      "https://jooon.vercel.app/api/py/select_all\n"
     ]
    }
   ],
   "source": [
    "for p in endpoints :\n",
    "    print(f'{p[\"url\"]}')"
   ]
  },
  {
   "cell_type": "code",
   "execution_count": 167,
   "id": "945eca9d-b76b-47d6-abe2-26a32afac030",
   "metadata": {},
   "outputs": [
    {
     "data": {
      "text/html": [
       "<div>\n",
       "<style scoped>\n",
       "    .dataframe tbody tr th:only-of-type {\n",
       "        vertical-align: middle;\n",
       "    }\n",
       "\n",
       "    .dataframe tbody tr th {\n",
       "        vertical-align: top;\n",
       "    }\n",
       "\n",
       "    .dataframe thead th {\n",
       "        text-align: right;\n",
       "    }\n",
       "</style>\n",
       "<table border=\"1\" class=\"dataframe\">\n",
       "  <thead>\n",
       "    <tr style=\"text-align: right;\">\n",
       "      <th></th>\n",
       "      <th>menu_name</th>\n",
       "      <th>name</th>\n",
       "      <th>dt</th>\n",
       "    </tr>\n",
       "  </thead>\n",
       "  <tbody>\n",
       "    <tr>\n",
       "      <th>0</th>\n",
       "      <td>설렁탕</td>\n",
       "      <td>TOM</td>\n",
       "      <td>2025-02-07</td>\n",
       "    </tr>\n",
       "    <tr>\n",
       "      <th>1</th>\n",
       "      <td>설렁탕,육회비빔밥</td>\n",
       "      <td>SEO</td>\n",
       "      <td>2025-02-07</td>\n",
       "    </tr>\n",
       "    <tr>\n",
       "      <th>2</th>\n",
       "      <td>시래기찜닭, 마라로제찜닭</td>\n",
       "      <td>hyun</td>\n",
       "      <td>2025-02-07</td>\n",
       "    </tr>\n",
       "    <tr>\n",
       "      <th>3</th>\n",
       "      <td>고등어구이</td>\n",
       "      <td>JERRY</td>\n",
       "      <td>2025-02-10</td>\n",
       "    </tr>\n",
       "    <tr>\n",
       "      <th>4</th>\n",
       "      <td>제육볶음, 고등어구이</td>\n",
       "      <td>hyun</td>\n",
       "      <td>2025-02-10</td>\n",
       "    </tr>\n",
       "    <tr>\n",
       "      <th>...</th>\n",
       "      <td>...</td>\n",
       "      <td>...</td>\n",
       "      <td>...</td>\n",
       "    </tr>\n",
       "    <tr>\n",
       "      <th>1015</th>\n",
       "      <td>김치 찌개</td>\n",
       "      <td>JACOB</td>\n",
       "      <td>2025-02-03</td>\n",
       "    </tr>\n",
       "    <tr>\n",
       "      <th>1016</th>\n",
       "      <td>샌드위치</td>\n",
       "      <td>HEEJIN</td>\n",
       "      <td>2025-02-03</td>\n",
       "    </tr>\n",
       "    <tr>\n",
       "      <th>1017</th>\n",
       "      <td>제육볶음</td>\n",
       "      <td>LUCAS</td>\n",
       "      <td>2025-02-03</td>\n",
       "    </tr>\n",
       "    <tr>\n",
       "      <th>1018</th>\n",
       "      <td>제육볶음</td>\n",
       "      <td>NUNI</td>\n",
       "      <td>2025-02-03</td>\n",
       "    </tr>\n",
       "    <tr>\n",
       "      <th>1019</th>\n",
       "      <td>라면</td>\n",
       "      <td>JERRY</td>\n",
       "      <td>2025-02-09</td>\n",
       "    </tr>\n",
       "  </tbody>\n",
       "</table>\n",
       "<p>1020 rows × 3 columns</p>\n",
       "</div>"
      ],
      "text/plain": [
       "          menu_name    name          dt\n",
       "0               설렁탕     TOM  2025-02-07\n",
       "1         설렁탕,육회비빔밥     SEO  2025-02-07\n",
       "2     시래기찜닭, 마라로제찜닭    hyun  2025-02-07\n",
       "3             고등어구이   JERRY  2025-02-10\n",
       "4       제육볶음, 고등어구이    hyun  2025-02-10\n",
       "...             ...     ...         ...\n",
       "1015          김치 찌개   JACOB  2025-02-03\n",
       "1016           샌드위치  HEEJIN  2025-02-03\n",
       "1017           제육볶음   LUCAS  2025-02-03\n",
       "1018           제육볶음    NUNI  2025-02-03\n",
       "1019             라면   JERRY  2025-02-09\n",
       "\n",
       "[1020 rows x 3 columns]"
      ]
     },
     "execution_count": 167,
     "metadata": {},
     "output_type": "execute_result"
    }
   ],
   "source": [
    "urls = [\n",
    "    \"https://ac.sunsin.shop/api/py/select_all\",\n",
    "    \"https://agecal.wodan10.shop/api/py/select_all\",\n",
    "    \"https://age.journeyjean.shop/api/py/select_all\",\n",
    "    \"https://agecalculator.calcalhan.store/api/py/select_all\",\n",
    "    \"https://nextjs-fastapi-starter-5j3bemub7-chominkyus-projects.vercel.app/api/py/select_all\",\n",
    "    \"https://jacob0503.vercel.app/api/py/select_table\",\n",
    "    \"https://ac.nunininu.shop/api/py/select_all\",\n",
    "    \"https://ac.lucas12.store/api/py/select_all\",\n",
    "    \"https://ac.seo-sigma.shop/api/py/select_all\",\n",
    "    \"https://jooon.vercel.app/api/py/select_all\"\n",
    "    ]\n",
    "\n",
    "# 데이터를 저장할 리스트\n",
    "df_list = []\n",
    "\n",
    "# 각 URL에서 데이터 가져오기\n",
    "for url in urls:\n",
    "    res = requests.get(url)\n",
    "    if res.status_code == 200:\n",
    "        data = res.json()\n",
    "        df = pd.DataFrame(data)\n",
    "        df_list.append(df)  # 리스트에 추가\n",
    "\n",
    "# 여러 개의 DataFrame을 하나로 합치기\n",
    "df_all = pd.concat(df_list, ignore_index=True)\n",
    "\n",
    "# 결과 확인\n",
    "df_all"
   ]
  },
  {
   "cell_type": "code",
   "execution_count": 157,
   "id": "fa931154-40e8-45c8-b1eb-ed3c57062d80",
   "metadata": {},
   "outputs": [
    {
     "data": {
      "text/html": [
       "<div>\n",
       "<style scoped>\n",
       "    .dataframe tbody tr th:only-of-type {\n",
       "        vertical-align: middle;\n",
       "    }\n",
       "\n",
       "    .dataframe tbody tr th {\n",
       "        vertical-align: top;\n",
       "    }\n",
       "\n",
       "    .dataframe thead th {\n",
       "        text-align: right;\n",
       "    }\n",
       "</style>\n",
       "<table border=\"1\" class=\"dataframe\">\n",
       "  <thead>\n",
       "    <tr style=\"text-align: right;\">\n",
       "      <th></th>\n",
       "      <th>menu_name</th>\n",
       "      <th>name</th>\n",
       "      <th>dt</th>\n",
       "    </tr>\n",
       "  </thead>\n",
       "  <tbody>\n",
       "    <tr>\n",
       "      <th>0</th>\n",
       "      <td>설렁탕</td>\n",
       "      <td>TOM</td>\n",
       "      <td>2025-02-07</td>\n",
       "    </tr>\n",
       "    <tr>\n",
       "      <th>1</th>\n",
       "      <td>설렁탕,육회비빔밥</td>\n",
       "      <td>SEO</td>\n",
       "      <td>2025-02-07</td>\n",
       "    </tr>\n",
       "    <tr>\n",
       "      <th>2</th>\n",
       "      <td>시래기찜닭, 마라로제찜닭</td>\n",
       "      <td>hyun</td>\n",
       "      <td>2025-02-07</td>\n",
       "    </tr>\n",
       "  </tbody>\n",
       "</table>\n",
       "</div>"
      ],
      "text/plain": [
       "       menu_name  name          dt\n",
       "0            설렁탕   TOM  2025-02-07\n",
       "1      설렁탕,육회비빔밥   SEO  2025-02-07\n",
       "2  시래기찜닭, 마라로제찜닭  hyun  2025-02-07"
      ]
     },
     "execution_count": 157,
     "metadata": {},
     "output_type": "execute_result"
    }
   ],
   "source": [
    "# 두 데이터 프레임의 차집합, 교집합 등을 알아보자\n",
    "\n",
    "# df_tom = \n",
    "# df_heejin = \n",
    "\n",
    "res = requests.get(\"https://ac.sunsin.shop/api/py/select_all\")\n",
    "res.status_code\n",
    "data = res.json()\n",
    "df_tom = pd.DataFrame(data)\n",
    "df_tom.head(3)"
   ]
  },
  {
   "cell_type": "code",
   "execution_count": 158,
   "id": "a0617ea9-7e00-4fe8-963e-fd01394da50f",
   "metadata": {},
   "outputs": [
    {
     "data": {
      "text/html": [
       "<div>\n",
       "<style scoped>\n",
       "    .dataframe tbody tr th:only-of-type {\n",
       "        vertical-align: middle;\n",
       "    }\n",
       "\n",
       "    .dataframe tbody tr th {\n",
       "        vertical-align: top;\n",
       "    }\n",
       "\n",
       "    .dataframe thead th {\n",
       "        text-align: right;\n",
       "    }\n",
       "</style>\n",
       "<table border=\"1\" class=\"dataframe\">\n",
       "  <thead>\n",
       "    <tr style=\"text-align: right;\">\n",
       "      <th></th>\n",
       "      <th>menu_name</th>\n",
       "      <th>name</th>\n",
       "      <th>dt</th>\n",
       "    </tr>\n",
       "  </thead>\n",
       "  <tbody>\n",
       "    <tr>\n",
       "      <th>0</th>\n",
       "      <td>컵라면</td>\n",
       "      <td>TOM</td>\n",
       "      <td>2025-02-10</td>\n",
       "    </tr>\n",
       "    <tr>\n",
       "      <th>1</th>\n",
       "      <td>이면수구이</td>\n",
       "      <td>cho</td>\n",
       "      <td>2025-02-10</td>\n",
       "    </tr>\n",
       "    <tr>\n",
       "      <th>2</th>\n",
       "      <td>스파게티</td>\n",
       "      <td>lucas</td>\n",
       "      <td>2025-02-10</td>\n",
       "    </tr>\n",
       "  </tbody>\n",
       "</table>\n",
       "</div>"
      ],
      "text/plain": [
       "  menu_name   name          dt\n",
       "0       컵라면    TOM  2025-02-10\n",
       "1     이면수구이    cho  2025-02-10\n",
       "2      스파게티  lucas  2025-02-10"
      ]
     },
     "execution_count": 158,
     "metadata": {},
     "output_type": "execute_result"
    }
   ],
   "source": [
    "res = requests.get(\"https://age.journeyjean.shop/api/py/select_all\")\n",
    "res.status_code\n",
    "data = res.json()\n",
    "df_heejin = pd.DataFrame(data)\n",
    "df_heejin.head(3)"
   ]
  },
  {
   "cell_type": "code",
   "execution_count": 130,
   "id": "80054630-fc6a-4f5a-b13f-f3c2a31b2a40",
   "metadata": {},
   "outputs": [
    {
     "data": {
      "text/plain": [
       "200"
      ]
     },
     "execution_count": 130,
     "metadata": {},
     "output_type": "execute_result"
    }
   ],
   "source": [
    "res = requests.get(\"https://age.journeyjean.shop/api/py/select_all\")\n",
    "res.status_code"
   ]
  },
  {
   "cell_type": "code",
   "execution_count": 131,
   "id": "8159f9a0-5118-4442-bfaf-9edc49825ad1",
   "metadata": {},
   "outputs": [
    {
     "data": {
      "text/html": [
       "<div>\n",
       "<style scoped>\n",
       "    .dataframe tbody tr th:only-of-type {\n",
       "        vertical-align: middle;\n",
       "    }\n",
       "\n",
       "    .dataframe tbody tr th {\n",
       "        vertical-align: top;\n",
       "    }\n",
       "\n",
       "    .dataframe thead th {\n",
       "        text-align: right;\n",
       "    }\n",
       "</style>\n",
       "<table border=\"1\" class=\"dataframe\">\n",
       "  <thead>\n",
       "    <tr style=\"text-align: right;\">\n",
       "      <th></th>\n",
       "      <th>menu_name</th>\n",
       "      <th>name</th>\n",
       "      <th>dt</th>\n",
       "    </tr>\n",
       "  </thead>\n",
       "  <tbody>\n",
       "    <tr>\n",
       "      <th>0</th>\n",
       "      <td>컵라면</td>\n",
       "      <td>TOM</td>\n",
       "      <td>2025-02-10</td>\n",
       "    </tr>\n",
       "    <tr>\n",
       "      <th>1</th>\n",
       "      <td>이면수구이</td>\n",
       "      <td>cho</td>\n",
       "      <td>2025-02-10</td>\n",
       "    </tr>\n",
       "    <tr>\n",
       "      <th>2</th>\n",
       "      <td>스파게티</td>\n",
       "      <td>lucas</td>\n",
       "      <td>2025-02-10</td>\n",
       "    </tr>\n",
       "    <tr>\n",
       "      <th>3</th>\n",
       "      <td>순대국</td>\n",
       "      <td>cho</td>\n",
       "      <td>2025-01-07</td>\n",
       "    </tr>\n",
       "    <tr>\n",
       "      <th>4</th>\n",
       "      <td>닭개장</td>\n",
       "      <td>hyun</td>\n",
       "      <td>2025-01-07</td>\n",
       "    </tr>\n",
       "    <tr>\n",
       "      <th>...</th>\n",
       "      <td>...</td>\n",
       "      <td>...</td>\n",
       "      <td>...</td>\n",
       "    </tr>\n",
       "    <tr>\n",
       "      <th>141</th>\n",
       "      <td>잔치국수</td>\n",
       "      <td>jacob</td>\n",
       "      <td>2025-02-03</td>\n",
       "    </tr>\n",
       "    <tr>\n",
       "      <th>142</th>\n",
       "      <td>김치 찌개</td>\n",
       "      <td>heejin</td>\n",
       "      <td>2025-02-03</td>\n",
       "    </tr>\n",
       "    <tr>\n",
       "      <th>143</th>\n",
       "      <td>샌드위치</td>\n",
       "      <td>TOM</td>\n",
       "      <td>2025-02-03</td>\n",
       "    </tr>\n",
       "    <tr>\n",
       "      <th>144</th>\n",
       "      <td>제육볶음</td>\n",
       "      <td>lucas</td>\n",
       "      <td>2025-02-03</td>\n",
       "    </tr>\n",
       "    <tr>\n",
       "      <th>145</th>\n",
       "      <td>제육볶음</td>\n",
       "      <td>nuni</td>\n",
       "      <td>2025-02-03</td>\n",
       "    </tr>\n",
       "  </tbody>\n",
       "</table>\n",
       "<p>146 rows × 3 columns</p>\n",
       "</div>"
      ],
      "text/plain": [
       "    menu_name    name          dt\n",
       "0         컵라면     TOM  2025-02-10\n",
       "1       이면수구이     cho  2025-02-10\n",
       "2        스파게티   lucas  2025-02-10\n",
       "3         순대국     cho  2025-01-07\n",
       "4         닭개장    hyun  2025-01-07\n",
       "..        ...     ...         ...\n",
       "141      잔치국수   jacob  2025-02-03\n",
       "142     김치 찌개  heejin  2025-02-03\n",
       "143      샌드위치     TOM  2025-02-03\n",
       "144      제육볶음   lucas  2025-02-03\n",
       "145      제육볶음    nuni  2025-02-03\n",
       "\n",
       "[146 rows x 3 columns]"
      ]
     },
     "execution_count": 131,
     "metadata": {},
     "output_type": "execute_result"
    }
   ],
   "source": [
    "df_heejin"
   ]
  },
  {
   "cell_type": "code",
   "execution_count": 132,
   "id": "329bd2ce-9013-44c9-becc-649ed2892319",
   "metadata": {},
   "outputs": [
    {
     "name": "stdout",
     "output_type": "stream",
     "text": [
      "       menu_name   name          dt\n",
      "0            설렁탕    TOM  2025-02-07\n",
      "1      설렁탕,육회비빔밥    SEO  2025-02-07\n",
      "2  시래기찜닭, 마라로제찜닭   hyun  2025-02-07\n",
      "3          고등어구이  JERRY  2025-02-10\n",
      "4    제육볶음, 고등어구이   hyun  2025-02-10\n",
      "5          순두부찌개   nuni  2025-02-11\n",
      "6             뷔페   hyun  2025-02-11\n",
      "7           김치찌개   nuni  2025-02-10\n",
      "8         참치김치찌개  jacob  2025-02-11\n",
      "9           된장찌개  jacob  2025-02-10\n"
     ]
    }
   ],
   "source": [
    "# 나의 df에 없는 row를 찾아서 새로운 df 만들기\n",
    "\n",
    "# 없는 행을 저장할 리스트\n",
    "missing_rows = []\n",
    "\n",
    "# df_tom의 각 행을 df_heejin과 비교\n",
    "for _, row_tom in df_tom.iterrows():\n",
    "    found = False  # 해당 행이 df_heejin에 있는지 여부\n",
    "    for _, row_heejin in df_heejin.iterrows():\n",
    "        if row_tom.equals(row_heejin):  # 두 행이 완전히 동일한지 비교\n",
    "            found = True\n",
    "            #break  # 한 번 찾으면 더 비교할 필요 없음\n",
    "    if not found:\n",
    "        missing_rows.append(row_tom)  # 없는 행을 리스트에 추가\n",
    "\n",
    "# 리스트를 새로운 데이터프레임으로 변환\n",
    "df_missing = pd.DataFrame(missing_rows)\n",
    "\n",
    "print(df_missing)"
   ]
  },
  {
   "cell_type": "code",
   "execution_count": 138,
   "id": "4bd58754-9467-4432-8c8d-05402ebc806d",
   "metadata": {},
   "outputs": [
    {
     "data": {
      "text/html": [
       "<div>\n",
       "<style scoped>\n",
       "    .dataframe tbody tr th:only-of-type {\n",
       "        vertical-align: middle;\n",
       "    }\n",
       "\n",
       "    .dataframe tbody tr th {\n",
       "        vertical-align: top;\n",
       "    }\n",
       "\n",
       "    .dataframe thead th {\n",
       "        text-align: right;\n",
       "    }\n",
       "</style>\n",
       "<table border=\"1\" class=\"dataframe\">\n",
       "  <thead>\n",
       "    <tr style=\"text-align: right;\">\n",
       "      <th></th>\n",
       "      <th>menu_name</th>\n",
       "      <th>name</th>\n",
       "    </tr>\n",
       "  </thead>\n",
       "  <tbody>\n",
       "    <tr>\n",
       "      <th>0</th>\n",
       "      <td>컵라면</td>\n",
       "      <td>TOM</td>\n",
       "    </tr>\n",
       "    <tr>\n",
       "      <th>1</th>\n",
       "      <td>이면수구이</td>\n",
       "      <td>cho</td>\n",
       "    </tr>\n",
       "    <tr>\n",
       "      <th>2</th>\n",
       "      <td>스파게티</td>\n",
       "      <td>lucas</td>\n",
       "    </tr>\n",
       "    <tr>\n",
       "      <th>3</th>\n",
       "      <td>순대국</td>\n",
       "      <td>cho</td>\n",
       "    </tr>\n",
       "    <tr>\n",
       "      <th>4</th>\n",
       "      <td>닭개장</td>\n",
       "      <td>hyun</td>\n",
       "    </tr>\n",
       "    <tr>\n",
       "      <th>...</th>\n",
       "      <td>...</td>\n",
       "      <td>...</td>\n",
       "    </tr>\n",
       "    <tr>\n",
       "      <th>139</th>\n",
       "      <td>잔치국수</td>\n",
       "      <td>jacob</td>\n",
       "    </tr>\n",
       "    <tr>\n",
       "      <th>140</th>\n",
       "      <td>김치 찌개</td>\n",
       "      <td>heejin</td>\n",
       "    </tr>\n",
       "    <tr>\n",
       "      <th>141</th>\n",
       "      <td>샌드위치</td>\n",
       "      <td>TOM</td>\n",
       "    </tr>\n",
       "    <tr>\n",
       "      <th>142</th>\n",
       "      <td>제육볶음</td>\n",
       "      <td>lucas</td>\n",
       "    </tr>\n",
       "    <tr>\n",
       "      <th>143</th>\n",
       "      <td>제육볶음</td>\n",
       "      <td>nuni</td>\n",
       "    </tr>\n",
       "  </tbody>\n",
       "</table>\n",
       "<p>144 rows × 2 columns</p>\n",
       "</div>"
      ],
      "text/plain": [
       "    menu_name    name\n",
       "0         컵라면     TOM\n",
       "1       이면수구이     cho\n",
       "2        스파게티   lucas\n",
       "3         순대국     cho\n",
       "4         닭개장    hyun\n",
       "..        ...     ...\n",
       "139      잔치국수   jacob\n",
       "140     김치 찌개  heejin\n",
       "141      샌드위치     TOM\n",
       "142      제육볶음   lucas\n",
       "143      제육볶음    nuni\n",
       "\n",
       "[144 rows x 2 columns]"
      ]
     },
     "execution_count": 138,
     "metadata": {},
     "output_type": "execute_result"
    }
   ],
   "source": [
    "from pandasql import sqldf\n",
    "query = \"\"\"\n",
    "SELECT df_heejin.menu_name, df_heejin.name\n",
    "FROM df_heejin\n",
    "LEFT JOIN df_tom\n",
    "ON df_heejin.menu_name = df_tom.menu_name AND df_heejin.name = df_tom.name\n",
    "WHERE df_tom.menu_name IS NULL\n",
    "\"\"\"\n",
    "\n",
    "pysqldf = lambda q: sqldf(q, globals())\n",
    "\n",
    "def pysqldf(q):\n",
    "    sqldf(q, locals())\n",
    "\n",
    "df_diff_1 = sqldf(query, locals()) \n",
    "df_diff_1"
   ]
  },
  {
   "cell_type": "code",
   "execution_count": 139,
   "id": "a2afe8ef-b216-49d6-89a3-4fd429545c5b",
   "metadata": {},
   "outputs": [
    {
     "name": "stdout",
     "output_type": "stream",
     "text": [
      "    menu_name    name          dt\n",
      "0         컵라면     TOM  2025-02-10\n",
      "1       이면수구이     cho  2025-02-10\n",
      "2        스파게티   lucas  2025-02-10\n",
      "3         순대국     cho  2025-01-07\n",
      "4         닭개장    hyun  2025-01-07\n",
      "..        ...     ...         ...\n",
      "141      잔치국수   jacob  2025-02-03\n",
      "142     김치 찌개  heejin  2025-02-03\n",
      "143      샌드위치     TOM  2025-02-03\n",
      "144      제육볶음   lucas  2025-02-03\n",
      "145      제육볶음    nuni  2025-02-03\n",
      "\n",
      "[146 rows x 3 columns]\n"
     ]
    }
   ],
   "source": [
    "missing_rows = [] \n",
    "\n",
    "for _, row_df_heejin in df_heejin.iterrows():\n",
    "    found = False # 동일한 행이 존재하는지 확인\n",
    "    for _,row_df_tom in df_tom.iterrows():\n",
    "        match = True # 같은지 비교 \n",
    "        for col in df_tom.columns:\n",
    "            if row_df_heejin[col] != row_df_tom[col]:\n",
    "                match = False\n",
    "                break\n",
    "        if match:\n",
    "            found = True\n",
    "            \n",
    "    if not found:\n",
    "        missing_rows.append(row_df_heejin) #없는 행을 리스트에 추가\n",
    "\n",
    "#리스트를 데이터프레임으로 바꿈\n",
    "df_diff_2 = pd.DataFrame(missing_rows)\n",
    "print(df_diff_2) "
   ]
  },
  {
   "cell_type": "code",
   "execution_count": 140,
   "id": "de3898b9-69aa-40e3-adc2-e4eb9e2928c3",
   "metadata": {},
   "outputs": [],
   "source": [
    "merge_df = pd.merge(df1, df2, how='right', indicator = True)"
   ]
  },
  {
   "cell_type": "code",
   "execution_count": 142,
   "id": "76edfeba-df6a-4f10-800b-27506d862c3c",
   "metadata": {},
   "outputs": [
    {
     "data": {
      "text/html": [
       "<div>\n",
       "<style scoped>\n",
       "    .dataframe tbody tr th:only-of-type {\n",
       "        vertical-align: middle;\n",
       "    }\n",
       "\n",
       "    .dataframe tbody tr th {\n",
       "        vertical-align: top;\n",
       "    }\n",
       "\n",
       "    .dataframe thead th {\n",
       "        text-align: right;\n",
       "    }\n",
       "</style>\n",
       "<table border=\"1\" class=\"dataframe\">\n",
       "  <thead>\n",
       "    <tr style=\"text-align: right;\">\n",
       "      <th></th>\n",
       "      <th>menu_name</th>\n",
       "      <th>name</th>\n",
       "      <th>dt</th>\n",
       "    </tr>\n",
       "  </thead>\n",
       "  <tbody>\n",
       "    <tr>\n",
       "      <th>0</th>\n",
       "      <td>컵라면</td>\n",
       "      <td>TOM</td>\n",
       "      <td>2025-02-10</td>\n",
       "    </tr>\n",
       "    <tr>\n",
       "      <th>1</th>\n",
       "      <td>이면수구이</td>\n",
       "      <td>cho</td>\n",
       "      <td>2025-02-10</td>\n",
       "    </tr>\n",
       "    <tr>\n",
       "      <th>2</th>\n",
       "      <td>스파게티</td>\n",
       "      <td>lucas</td>\n",
       "      <td>2025-02-10</td>\n",
       "    </tr>\n",
       "    <tr>\n",
       "      <th>3</th>\n",
       "      <td>순대국</td>\n",
       "      <td>cho</td>\n",
       "      <td>2025-01-07</td>\n",
       "    </tr>\n",
       "    <tr>\n",
       "      <th>4</th>\n",
       "      <td>닭개장</td>\n",
       "      <td>hyun</td>\n",
       "      <td>2025-01-07</td>\n",
       "    </tr>\n",
       "    <tr>\n",
       "      <th>...</th>\n",
       "      <td>...</td>\n",
       "      <td>...</td>\n",
       "      <td>...</td>\n",
       "    </tr>\n",
       "    <tr>\n",
       "      <th>141</th>\n",
       "      <td>잔치국수</td>\n",
       "      <td>jacob</td>\n",
       "      <td>2025-02-03</td>\n",
       "    </tr>\n",
       "    <tr>\n",
       "      <th>142</th>\n",
       "      <td>김치 찌개</td>\n",
       "      <td>heejin</td>\n",
       "      <td>2025-02-03</td>\n",
       "    </tr>\n",
       "    <tr>\n",
       "      <th>143</th>\n",
       "      <td>샌드위치</td>\n",
       "      <td>TOM</td>\n",
       "      <td>2025-02-03</td>\n",
       "    </tr>\n",
       "    <tr>\n",
       "      <th>144</th>\n",
       "      <td>제육볶음</td>\n",
       "      <td>lucas</td>\n",
       "      <td>2025-02-03</td>\n",
       "    </tr>\n",
       "    <tr>\n",
       "      <th>145</th>\n",
       "      <td>제육볶음</td>\n",
       "      <td>nuni</td>\n",
       "      <td>2025-02-03</td>\n",
       "    </tr>\n",
       "  </tbody>\n",
       "</table>\n",
       "<p>146 rows × 3 columns</p>\n",
       "</div>"
      ],
      "text/plain": [
       "    menu_name    name          dt\n",
       "0         컵라면     TOM  2025-02-10\n",
       "1       이면수구이     cho  2025-02-10\n",
       "2        스파게티   lucas  2025-02-10\n",
       "3         순대국     cho  2025-01-07\n",
       "4         닭개장    hyun  2025-01-07\n",
       "..        ...     ...         ...\n",
       "141      잔치국수   jacob  2025-02-03\n",
       "142     김치 찌개  heejin  2025-02-03\n",
       "143      샌드위치     TOM  2025-02-03\n",
       "144      제육볶음   lucas  2025-02-03\n",
       "145      제육볶음    nuni  2025-02-03\n",
       "\n",
       "[146 rows x 3 columns]"
      ]
     },
     "execution_count": 142,
     "metadata": {},
     "output_type": "execute_result"
    }
   ],
   "source": [
    "# _merge == right only인것만 남기고\n",
    "# _merge 컬럼은 지우고\n",
    "\n",
    "merge_df = pd.merge(df_tom, df_heejin, how='right', indicator = True)\n",
    "df_diff_3 = merge_df[merge_df[\"_merge\"] == 'right_only'].drop('_merge',axis=1)\n",
    "df_diff_3"
   ]
  },
  {
   "cell_type": "code",
   "execution_count": 68,
   "id": "63270889-164a-46dd-a3e5-eaa5fd6fe9d3",
   "metadata": {},
   "outputs": [],
   "source": [
    "## TODO\n",
    "#df_diff_1, df_diff_2, df_diff_3 의 결과가 같은지 비교\n",
    "#df_diff_1 == df_diff_2 == df_diff_3"
   ]
  },
  {
   "cell_type": "code",
   "execution_count": 143,
   "id": "15ab8db0-ee87-4e4a-be77-524f038fd35a",
   "metadata": {},
   "outputs": [
    {
     "data": {
      "text/plain": [
       "False"
      ]
     },
     "execution_count": 143,
     "metadata": {},
     "output_type": "execute_result"
    }
   ],
   "source": [
    "df_diff_1.equals(df_diff_2)"
   ]
  },
  {
   "cell_type": "code",
   "execution_count": 144,
   "id": "79709969-b9f0-416a-8fef-1e18ae8216e9",
   "metadata": {},
   "outputs": [
    {
     "data": {
      "text/plain": [
       "False"
      ]
     },
     "execution_count": 144,
     "metadata": {},
     "output_type": "execute_result"
    }
   ],
   "source": [
    "df_diff_1.equals(df_diff_3)"
   ]
  },
  {
   "cell_type": "code",
   "execution_count": 145,
   "id": "783dfa14-581c-45da-a371-e3365d19e96b",
   "metadata": {},
   "outputs": [
    {
     "data": {
      "text/plain": [
       "True"
      ]
     },
     "execution_count": 145,
     "metadata": {},
     "output_type": "execute_result"
    }
   ],
   "source": [
    "df_diff_2.equals(df_diff_3)"
   ]
  },
  {
   "cell_type": "code",
   "execution_count": 146,
   "id": "75c42e19-05e8-445b-9f4b-a2053dc8b5b3",
   "metadata": {},
   "outputs": [
    {
     "data": {
      "text/plain": [
       "False"
      ]
     },
     "execution_count": 146,
     "metadata": {},
     "output_type": "execute_result"
    }
   ],
   "source": [
    "df_diff_1.reset_index(drop=True).equals(df_diff_3.reset_index(drop=True))"
   ]
  },
  {
   "cell_type": "code",
   "execution_count": 93,
   "id": "91b0e107-8a66-42fd-b84c-0d296205ea9c",
   "metadata": {},
   "outputs": [
    {
     "data": {
      "text/plain": [
       "['id', 'name']"
      ]
     },
     "execution_count": 93,
     "metadata": {},
     "output_type": "execute_result"
    }
   ],
   "source": [
    "df_diff_3.columns.tolist()"
   ]
  },
  {
   "cell_type": "code",
   "execution_count": null,
   "id": "63d26844-8d02-4f2d-ac02-f60025243747",
   "metadata": {},
   "outputs": [],
   "source": []
  }
 ],
 "metadata": {
  "kernelspec": {
   "display_name": "Python 3 (ipykernel)",
   "language": "python",
   "name": "python3"
  },
  "language_info": {
   "codemirror_mode": {
    "name": "ipython",
    "version": 3
   },
   "file_extension": ".py",
   "mimetype": "text/x-python",
   "name": "python",
   "nbconvert_exporter": "python",
   "pygments_lexer": "ipython3",
   "version": "3.10.12"
  }
 },
 "nbformat": 4,
 "nbformat_minor": 5
}
