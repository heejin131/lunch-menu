{
 "cells": [
  {
   "cell_type": "code",
   "execution_count": 9,
   "id": "8a56af3d-0058-4708-9921-f4afd8fd54ec",
   "metadata": {},
   "outputs": [],
   "source": [
    "import pandas as pd\n",
    "\n",
    "df1 = pd.DataFrame({\"id\": [1, 2, 3], \"name\": [\"KIM\", \"MIN\", \"LEE\"]})\n",
    "df2 = pd.DataFrame({\"id\": [2, 3, 4, 5], \"name\": [\"MIN\", \"LEE\", \"PARK\", \"TOM\"]})\n",
    "df3 = pd.DataFrame({\"id\": [5, 4, 2, 3], \"name\": [\"TOM\", \"PARK\",\"MIN\", \"LEE\"]})"
   ]
  },
  {
   "cell_type": "code",
   "execution_count": 10,
   "id": "cc30144b-83e6-4f8c-b234-382824f30eaa",
   "metadata": {},
   "outputs": [
    {
     "data": {
      "text/html": [
       "<div>\n",
       "<style scoped>\n",
       "    .dataframe tbody tr th:only-of-type {\n",
       "        vertical-align: middle;\n",
       "    }\n",
       "\n",
       "    .dataframe tbody tr th {\n",
       "        vertical-align: top;\n",
       "    }\n",
       "\n",
       "    .dataframe thead th {\n",
       "        text-align: right;\n",
       "    }\n",
       "</style>\n",
       "<table border=\"1\" class=\"dataframe\">\n",
       "  <thead>\n",
       "    <tr style=\"text-align: right;\">\n",
       "      <th></th>\n",
       "      <th>id</th>\n",
       "      <th>name</th>\n",
       "    </tr>\n",
       "  </thead>\n",
       "  <tbody>\n",
       "    <tr>\n",
       "      <th>0</th>\n",
       "      <td>4</td>\n",
       "      <td>PARK</td>\n",
       "    </tr>\n",
       "    <tr>\n",
       "      <th>1</th>\n",
       "      <td>5</td>\n",
       "      <td>TOM</td>\n",
       "    </tr>\n",
       "  </tbody>\n",
       "</table>\n",
       "</div>"
      ],
      "text/plain": [
       "   id  name\n",
       "0   4  PARK\n",
       "1   5   TOM"
      ]
     },
     "execution_count": 10,
     "metadata": {},
     "output_type": "execute_result"
    }
   ],
   "source": [
    "from pandasql import sqldf\n",
    "query = \"\"\"\n",
    "SELECT df2.id, df2.name\n",
    "FROM df2\n",
    "LEFT JOIN df1 ON df2.id = df1.id AND df2.name = df1.name\n",
    "WHERE df1.id IS NULL\n",
    "\"\"\"\n",
    "\n",
    "pysqldf = lambda q: sqldf(q, globals())\n",
    "\n",
    "def pysqldf(q):\n",
    "    sqldf(q, locals())\n",
    "m\n",
    "df_diff_1 = sqldf(query, locals()) \n",
    "df_diff_1"
   ]
  },
  {
   "cell_type": "code",
   "execution_count": null,
   "id": "9be7f39e-f5d5-4811-b2e5-566ad8daa6cb",
   "metadata": {},
   "outputs": [],
   "source": [
    "missing_rows = [] \n",
    "\n",
    "for _, row_df2 in df2.iterrows():\n",
    "    found = False # 동일한 행이 존재하는지 확인\n",
    "    for _,row_df1 in df1.iterrows():\n",
    "        match = True # 같은지 비교 \n",
    "        for col in df1.columns:\n",
    "            if row_df2[col] != row_df1[col]:\n",
    "                match = False\n",
    "                break\n",
    "        if match:\n",
    "            found = True\n",
    "            \n",
    "    if not found:\n",
    "        missing_rows.append(row_df2) #없는 행을 리스트에 추가\n",
    "\n",
    "#리스트를 데이터프레임으로 바꿈\n",
    "df_diff_2 = pd.DataFrame(missing_rows)\n",
    "print(df_diff_2)        "
   ]
  },
  {
   "cell_type": "code",
   "execution_count": null,
   "id": "f68a5bd0-38b9-4b05-bb74-bad41c5c4760",
   "metadata": {},
   "outputs": [],
   "source": [
    "merge_df = pd.merge(df1, df2, how='right', indicator = True)"
   ]
  },
  {
   "cell_type": "code",
   "execution_count": 2,
   "id": "7497c9a2-ed76-404f-81dc-4c430b2a366c",
   "metadata": {},
   "outputs": [
    {
     "data": {
      "text/html": [
       "<div>\n",
       "<style scoped>\n",
       "    .dataframe tbody tr th:only-of-type {\n",
       "        vertical-align: middle;\n",
       "    }\n",
       "\n",
       "    .dataframe tbody tr th {\n",
       "        vertical-align: top;\n",
       "    }\n",
       "\n",
       "    .dataframe thead th {\n",
       "        text-align: right;\n",
       "    }\n",
       "</style>\n",
       "<table border=\"1\" class=\"dataframe\">\n",
       "  <thead>\n",
       "    <tr style=\"text-align: right;\">\n",
       "      <th></th>\n",
       "      <th>id</th>\n",
       "      <th>name</th>\n",
       "    </tr>\n",
       "  </thead>\n",
       "  <tbody>\n",
       "    <tr>\n",
       "      <th>2</th>\n",
       "      <td>4</td>\n",
       "      <td>PARK</td>\n",
       "    </tr>\n",
       "    <tr>\n",
       "      <th>3</th>\n",
       "      <td>5</td>\n",
       "      <td>TOM</td>\n",
       "    </tr>\n",
       "  </tbody>\n",
       "</table>\n",
       "</div>"
      ],
      "text/plain": [
       "   id  name\n",
       "2   4  PARK\n",
       "3   5   TOM"
      ]
     },
     "execution_count": 2,
     "metadata": {},
     "output_type": "execute_result"
    }
   ],
   "source": [
    "# _merge == right only인것만 남기고\n",
    "# _merge 컬럼은 지우고\n",
    "\n",
    "merge_df = pd.merge(df1, df2, how='right', indicator = True)\n",
    "df_diff_3 = merge_df[merge_df[\"_merge\"] == 'right_only'].drop('_merge',axis=1)\n",
    "df_diff_3"
   ]
  },
  {
   "cell_type": "code",
   "execution_count": null,
   "id": "1c853e60-fdb8-4d4b-804b-dc9f6e7281d6",
   "metadata": {},
   "outputs": [],
   "source": [
    "## TODO\n",
    "#df_diff_1, df_diff_2, df_diff_3 의 결과가 같은지 비교\n",
    "#df_diff_1 == df_diff_2 == df_diff_3"
   ]
  },
  {
   "cell_type": "code",
   "execution_count": null,
   "id": "35e033b7-19c4-415c-83dd-38abd7899e43",
   "metadata": {},
   "outputs": [],
   "source": [
    "df_diff_1.equals(df_diff_2)"
   ]
  },
  {
   "cell_type": "code",
   "execution_count": null,
   "id": "96e976f4-53e2-442a-b944-9291fa9c094d",
   "metadata": {},
   "outputs": [],
   "source": [
    "df_diff_1.reset_index(drop=True).equals(df_diff_3.reset_index(drop=True))"
   ]
  },
  {
   "cell_type": "code",
   "execution_count": null,
   "id": "1214222b-51b1-42c5-ae10-003e2d63f15c",
   "metadata": {},
   "outputs": [],
   "source": [
    "df_diff_3.columns.tolist()"
   ]
  }
 ],
 "metadata": {
  "kernelspec": {
   "display_name": "Python 3 (ipykernel)",
   "language": "python",
   "name": "python3"
  },
  "language_info": {
   "codemirror_mode": {
    "name": "ipython",
    "version": 3
   },
   "file_extension": ".py",
   "mimetype": "text/x-python",
   "name": "python",
   "nbconvert_exporter": "python",
   "pygments_lexer": "ipython3",
   "version": "3.10.12"
  }
 },
 "nbformat": 4,
 "nbformat_minor": 5
}
