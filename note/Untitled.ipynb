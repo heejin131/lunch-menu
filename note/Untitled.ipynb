{
 "cells": [
  {
   "cell_type": "code",
   "execution_count": 1,
   "id": "8bdb87ac-08bf-40df-a784-98f70e4e6fbb",
   "metadata": {},
   "outputs": [],
   "source": [
    "import pandas as pd\n",
    "import requests\n",
    "\n",
    "EP = \"https://raw.githubusercontent.com/heejin131/journeyjean/refs/heads/main/endpoints.json\""
   ]
  },
  {
   "cell_type": "code",
   "execution_count": 2,
   "id": "80d4f6a7-01f3-4c5c-ae6d-1d3c2aad2949",
   "metadata": {},
   "outputs": [],
   "source": [
    "res = requests.get(EP)"
   ]
  },
  {
   "cell_type": "code",
   "execution_count": 3,
   "id": "3d1996d5-8437-4bda-bd02-129843c69392",
   "metadata": {},
   "outputs": [
    {
     "data": {
      "text/plain": [
       "200"
      ]
     },
     "execution_count": 3,
     "metadata": {},
     "output_type": "execute_result"
    }
   ],
   "source": [
    "res.status_code"
   ]
  },
  {
   "cell_type": "code",
   "execution_count": 4,
   "id": "1dda3812-d36b-4b19-9852-e1da1cec4513",
   "metadata": {},
   "outputs": [
    {
     "data": {
      "text/plain": [
       "{'endpoints': [{'name': 'TOM',\n",
       "   'url': 'https://ac.sunsin.shop/api/py/select_all'},\n",
       "  {'name': 'jiwon', 'url': 'https://agecal.wodan10.shop/api/py/select_all'},\n",
       "  {'name': 'heejin', 'url': 'https://age.journeyjean.shop/api/py/select_all'},\n",
       "  {'name': 'hyun',\n",
       "   'url': 'https://agecalculator.calcalhan.store/api/py/select_all'},\n",
       "  {'name': 'cho',\n",
       "   'url': 'https://nextjs-fastapi-starter-5j3bemub7-chominkyus-projects.vercel.app/api/py/select_all'},\n",
       "  {'name': 'jacob', 'url': 'https://jacob0503.vercel.app/api/py/select_table'},\n",
       "  {'name': 'nuni', 'url': 'https://ac.nunininu.shop/api/py/select_all'},\n",
       "  {'name': 'lucas', 'url': 'https://ac.lucas12.store/api/py/select_all'},\n",
       "  {'name': 'SEO', 'url': 'https://ac.seo-sigma.shop/api/py/select_all'},\n",
       "  {'name': 'JERRY', 'url': 'https://jooon.vercel.app/api/py/select_all'}]}"
      ]
     },
     "execution_count": 4,
     "metadata": {},
     "output_type": "execute_result"
    }
   ],
   "source": [
    "res.json()"
   ]
  },
  {
   "cell_type": "code",
   "execution_count": 7,
   "id": "0e62575e-6f75-455a-bb6a-b0ed5fc91d59",
   "metadata": {},
   "outputs": [],
   "source": [
    "data = res.json()\n",
    "type(data['endpoints'])\n",
    "endpoints = data['endpoints']"
   ]
  },
  {
   "cell_type": "code",
   "execution_count": 8,
   "id": "b0d480e4-5747-4fda-91e3-e838eb46a41c",
   "metadata": {},
   "outputs": [
    {
     "name": "stdout",
     "output_type": "stream",
     "text": [
      "{'name': 'TOM', 'url': 'https://ac.sunsin.shop/api/py/select_all'}\n",
      "{'name': 'jiwon', 'url': 'https://agecal.wodan10.shop/api/py/select_all'}\n",
      "{'name': 'heejin', 'url': 'https://age.journeyjean.shop/api/py/select_all'}\n",
      "{'name': 'hyun', 'url': 'https://agecalculator.calcalhan.store/api/py/select_all'}\n",
      "{'name': 'cho', 'url': 'https://nextjs-fastapi-starter-5j3bemub7-chominkyus-projects.vercel.app/api/py/select_all'}\n",
      "{'name': 'jacob', 'url': 'https://jacob0503.vercel.app/api/py/select_table'}\n",
      "{'name': 'nuni', 'url': 'https://ac.nunininu.shop/api/py/select_all'}\n",
      "{'name': 'lucas', 'url': 'https://ac.lucas12.store/api/py/select_all'}\n",
      "{'name': 'SEO', 'url': 'https://ac.seo-sigma.shop/api/py/select_all'}\n",
      "{'name': 'JERRY', 'url': 'https://jooon.vercel.app/api/py/select_all'}\n"
     ]
    }
   ],
   "source": [
    "for p in endpoints :\n",
    "    print(p)"
   ]
  }
 ],
 "metadata": {
  "kernelspec": {
   "display_name": "Python 3 (ipykernel)",
   "language": "python",
   "name": "python3"
  },
  "language_info": {
   "codemirror_mode": {
    "name": "ipython",
    "version": 3
   },
   "file_extension": ".py",
   "mimetype": "text/x-python",
   "name": "python",
   "nbconvert_exporter": "python",
   "pygments_lexer": "ipython3",
   "version": "3.10.12"
  }
 },
 "nbformat": 4,
 "nbformat_minor": 5
}
