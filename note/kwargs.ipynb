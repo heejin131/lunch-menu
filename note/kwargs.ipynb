{
 "cells": [
  {
   "cell_type": "code",
   "execution_count": 16,
   "id": "def054f9-80b7-4ce1-b08a-eef6e79f1d15",
   "metadata": {},
   "outputs": [],
   "source": [
    "def fun_args(*args):\n",
    "    print(f\"args...{type(args)}\")\n",
    "    for a in args:\n",
    "     print(a)"
   ]
  },
  {
   "cell_type": "code",
   "execution_count": 17,
   "id": "a8e450b3-1c63-480a-8caa-cce304c7a2ca",
   "metadata": {},
   "outputs": [
    {
     "name": "stdout",
     "output_type": "stream",
     "text": [
      "args...<class 'tuple'>\n",
      "1\n",
      "2\n",
      "3\n"
     ]
    }
   ],
   "source": [
    "fun_args(1,2,3)"
   ]
  },
  {
   "cell_type": "code",
   "execution_count": 33,
   "id": "6a6348da-b080-4a68-a34b-5578be01ff1b",
   "metadata": {},
   "outputs": [
    {
     "data": {
      "text/plain": [
       "dict_items([('name', 'pey'), ('phone', '010-9999-1234'), ('birth', '1118')])"
      ]
     },
     "execution_count": 33,
     "metadata": {},
     "output_type": "execute_result"
    }
   ],
   "source": [
    "a = {'name':'pey', 'phone':'010-9999-1234', 'birth': '1118'}\n",
    "a.items()"
   ]
  },
  {
   "cell_type": "code",
   "execution_count": 43,
   "id": "3b0776bf-6b9c-4115-a993-d25882f73cef",
   "metadata": {},
   "outputs": [],
   "source": [
    "def fun_kwargs(**kwargs):\n",
    "    print(f\"kwargs...{type(kwargs)}\")\n",
    "    for k, v in kwargs.items():\n",
    "        print(f\"key:{k}, value:{v}\")"
   ]
  },
  {
   "cell_type": "code",
   "execution_count": 44,
   "id": "e347632b-e7c0-4fb5-83c4-5c38ef76ae32",
   "metadata": {},
   "outputs": [
    {
     "name": "stdout",
     "output_type": "stream",
     "text": [
      "kwargs...<class 'dict'>\n"
     ]
    }
   ],
   "source": [
    "fun_kwargs()"
   ]
  },
  {
   "cell_type": "code",
   "execution_count": 45,
   "id": "b094f9ef-d523-43bb-ad6e-f37a0297f8ef",
   "metadata": {},
   "outputs": [
    {
     "name": "stdout",
     "output_type": "stream",
     "text": [
      "kwargs...<class 'dict'>\n",
      "key:dbname, value:sunsindb\n",
      "key:user, value:sunsin\n",
      "key:abc, value:aaa\n"
     ]
    }
   ],
   "source": [
    "fun_kwargs(dbname=\"sunsindb\", user=\"sunsin\", abc=\"aaa\")"
   ]
  },
  {
   "cell_type": "code",
   "execution_count": 46,
   "id": "8ae736cc-8f1c-4d6a-b9be-188bd556ff0e",
   "metadata": {},
   "outputs": [],
   "source": [
    "DB_CONFIG = {\n",
    "    \"dbname\": \"sunsindb\",\n",
    "    \"user\": \"sunsin\",\n",
    "    \"password\": \"mysecretpassword\",\n",
    "    \"host\": \"localhost\",\n",
    "    \"port\": \"5432\"\n",
    "}"
   ]
  },
  {
   "cell_type": "code",
   "execution_count": 47,
   "id": "bddf96ca-d6a6-4293-81b8-4e469b8b8ed5",
   "metadata": {},
   "outputs": [
    {
     "name": "stdout",
     "output_type": "stream",
     "text": [
      "kwargs...<class 'dict'>\n",
      "key:dbname, value:sunsindb\n",
      "key:user, value:sunsin\n",
      "key:password, value:mysecretpassword\n",
      "key:host, value:localhost\n",
      "key:port, value:5432\n"
     ]
    }
   ],
   "source": [
    "fun_kwargs(**DB_CONFIG)"
   ]
  },
  {
   "cell_type": "code",
   "execution_count": 50,
   "id": "abaa312e-33f9-4d88-bc3f-f3b29efeecf7",
   "metadata": {},
   "outputs": [],
   "source": [
    "def fun_jjamppong(name, *args, **kwargs):\n",
    "    print(f\"jjamppong...{type(name)}, {type(args)}, {type(kwargs)}\")"
   ]
  },
  {
   "cell_type": "code",
   "execution_count": 51,
   "id": "c226e76e-08ef-4152-b47c-1a3bc65535c7",
   "metadata": {},
   "outputs": [
    {
     "name": "stdout",
     "output_type": "stream",
     "text": [
      "jjamppong...<class 'int'>, <class 'tuple'>, <class 'dict'>\n"
     ]
    }
   ],
   "source": [
    "fun_jjamppong(1,\"A\",\"B\", menu=\"a\", food=\"b\")"
   ]
  },
  {
   "cell_type": "code",
   "execution_count": 52,
   "id": "a9031a38-972c-45eb-81c3-de4203856fab",
   "metadata": {},
   "outputs": [],
   "source": [
    "def fun_g(name, age=11):\n",
    "    print(name)\n",
    "    print(age)"
   ]
  },
  {
   "cell_type": "code",
   "execution_count": 53,
   "id": "63e15270-9c09-496c-b7cf-da1da8d20ed7",
   "metadata": {},
   "outputs": [
    {
     "name": "stdout",
     "output_type": "stream",
     "text": [
      "kim\n",
      "11\n"
     ]
    }
   ],
   "source": [
    "fun_g('kim',11)"
   ]
  },
  {
   "cell_type": "code",
   "execution_count": null,
   "id": "5e26745f-18ab-41a1-bc0c-feba76670cf1",
   "metadata": {},
   "outputs": [],
   "source": []
  }
 ],
 "metadata": {
  "kernelspec": {
   "display_name": "Python 3 (ipykernel)",
   "language": "python",
   "name": "python3"
  },
  "language_info": {
   "codemirror_mode": {
    "name": "ipython",
    "version": 3
   },
   "file_extension": ".py",
   "mimetype": "text/x-python",
   "name": "python",
   "nbconvert_exporter": "python",
   "pygments_lexer": "ipython3",
   "version": "3.10.12"
  }
 },
 "nbformat": 4,
 "nbformat_minor": 5
}
